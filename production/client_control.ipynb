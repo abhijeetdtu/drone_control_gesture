{
  "nbformat": 4,
  "nbformat_minor": 0,
  "metadata": {
    "kernelspec": {
      "display_name": "dt",
      "language": "python",
      "name": "dt"
    },
    "language_info": {
      "codemirror_mode": {
        "name": "ipython",
        "version": 3
      },
      "file_extension": ".py",
      "mimetype": "text/x-python",
      "name": "python",
      "nbconvert_exporter": "python",
      "pygments_lexer": "ipython3",
      "version": "3.7.3"
    },
    "colab": {
      "name": "client_control.ipynb",
      "provenance": []
    }
  },
  "cells": [
    {
      "cell_type": "markdown",
      "metadata": {
        "id": "z3LlUHwPQjVZ"
      },
      "source": [
        "# Setting Up Client Side for Drone Control\n",
        "\n",
        "- Python Libraries needed\n",
        "  - pymavlink\n",
        "  - dronekit_sitl\n",
        "  - dronekit\n",
        "\n",
        "\n",
        "## Getting started\n",
        "\n",
        "Firsty we will create `MessengerClient` - corresponding to the `MessengerServer` we have in the server script.\n",
        "\n",
        "This client will connect to the server and receive all the recognized gestures from there."
      ]
    },
    {
      "cell_type": "code",
      "metadata": {
        "id": "lIn0Tbn8H8Mg"
      },
      "source": [
        "import socket\n",
        "import time\n",
        "from pymavlink import mavutil"
      ],
      "execution_count": null,
      "outputs": []
    },
    {
      "cell_type": "code",
      "metadata": {
        "id": "q4aUZPwmH8Mo"
      },
      "source": [
        "class MessengerClient:\n",
        "    def __init__(self , host=\"localhost\" , port=42425):\n",
        "        self.host = host\n",
        "        self.port = port\n",
        "        self.s = socket.socket()\n",
        "    \n",
        "    def connect(self):\n",
        "        self.s.connect((self.host,self.port))\n",
        "    \n",
        "    def relay_msg(self , function):\n",
        "        try:\n",
        "            while True:\n",
        "                data = self.s.recv(1024)\n",
        "                if data is None:\n",
        "                    break\n",
        "                function(data)\n",
        "        except KeyboardInterrupt:\n",
        "            print(\"Breaking\")"
      ],
      "execution_count": null,
      "outputs": []
    },
    {
      "cell_type": "markdown",
      "metadata": {
        "id": "Io8OnLbaRAKh"
      },
      "source": [
        "Make sure \n",
        "1. that client and server are on the same wifi network.\n",
        "2. the ports match in both the client and the server. \n",
        "3. Server is already waiting for connection"
      ]
    },
    {
      "cell_type": "code",
      "metadata": {
        "id": "R750u597H8Mp"
      },
      "source": [
        "port = 42425\n",
        "client = MessengerClient(port = port)\n",
        "client.connect()"
      ],
      "execution_count": null,
      "outputs": []
    },
    {
      "cell_type": "code",
      "metadata": {
        "id": "iUMDvBR6H8Mp"
      },
      "source": [
        "#client.s.close()"
      ],
      "execution_count": null,
      "outputs": []
    },
    {
      "cell_type": "markdown",
      "metadata": {
        "id": "GuRXGePERGpI"
      },
      "source": [
        "## Software in the Loop : Drone Simulation\n",
        "\n",
        "The SITL (software in the loop) simulator allows you to run Plane, Copter or Rover without any hardware. It is a build of the autopilot code using an ordinary C++ compiler, giving you a native executable that allows you to test the behaviour of the code without hardware.\n",
        "\n",
        "This article provides an overview of SITL’s benefits and architecture.\n",
        "When running in SITL the sensor data comes from a flight dynamics model in a flight simulator.\n",
        "\n",
        "We use the [Dronekit SITL](https://github.com/dronekit/dronekit-sitl) below. Create a copter simulator and connect MavProxy to it.\n",
        "\n",
        "### MavProxy\n",
        "\n",
        "To install mavproxy follow the guide [here](https://ardupilot.org/mavproxy/docs/getting_started/download_and_installation.html)\n",
        "\n",
        "This is needed because we want to have two connections to the simulated drone vehicle. First connection will send control signals and the second connection is for visualization. MavProxy allows this to happen by sitting in the middle like a power cord extension connection to a power point.\n",
        "\n",
        "<center>\n",
        "\n",
        "![image](https://user-images.githubusercontent.com/6872080/118688110-c077ef00-b7d3-11eb-8057-c6151673bf60.png)\n",
        "\n",
        "<center>\n",
        "\n"
      ]
    },
    {
      "cell_type": "code",
      "metadata": {
        "id": "G66qGkdWH8Mp",
        "outputId": "ef39982c-2b0f-4c76-ba7d-1ec0529941ea"
      },
      "source": [
        "from dronekit_sitl import SITL , start_default\n",
        "sitl = start_default()"
      ],
      "execution_count": null,
      "outputs": [
        {
          "output_type": "stream",
          "text": [
            "Starting copter simulator (SITL)\n",
            "SITL already Downloaded and Extracted.\n",
            "Ready to boot.\n"
          ],
          "name": "stdout"
        }
      ]
    },
    {
      "cell_type": "code",
      "metadata": {
        "id": "HU34SbI6H8Mq",
        "outputId": "65d35c3d-a0f2-4bb0-d9db-f59c378e8930"
      },
      "source": [
        "connection_string = sitl.connection_string()\n",
        "print(\"Connecting to vehicle on: %s\" % (connection_string,))"
      ],
      "execution_count": null,
      "outputs": [
        {
          "output_type": "stream",
          "text": [
            "Connecting to vehicle on: tcp:127.0.0.1:5760\n"
          ],
          "name": "stdout"
        }
      ]
    },
    {
      "cell_type": "markdown",
      "metadata": {
        "id": "cHjRq15ZSi3a"
      },
      "source": [
        "Now that you have started your simualated drone. Create multi output using MavProxy. If on windows you can run the below command. Otherwise it will be something like `mavproxy.py` instead of `mavproxy.exe`. This is dependent on your above installtion of MavProxy"
      ]
    },
    {
      "cell_type": "code",
      "metadata": {
        "id": "sFFs1E5YH8Mr"
      },
      "source": [
        "#mavproxy.exe --master tcp:127.0.0.1:5760 --sitl 127.0.0.1:5501 --out 127.0.0.1:14550 --out 127.0.0.1:14551              "
      ],
      "execution_count": null,
      "outputs": []
    },
    {
      "cell_type": "markdown",
      "metadata": {
        "id": "7B4PMobZS36l"
      },
      "source": [
        "# Vechicle Control\n",
        "\n",
        "We will first connect to the simulated drone using `dronekit` and then pass it along to our custom `DroneControl` class. This class will have a function that will take the identified gesture as an input and translate those into drone control signals via the `dronekit` API."
      ]
    },
    {
      "cell_type": "code",
      "metadata": {
        "id": "an4KQCsIH8Mr"
      },
      "source": [
        "from dronekit import connect, VehicleMode"
      ],
      "execution_count": null,
      "outputs": []
    },
    {
      "cell_type": "code",
      "metadata": {
        "id": "qcrAp6GCH8Mr",
        "outputId": "e03a7807-95f1-42a0-ee47-e3bda2184e8f"
      },
      "source": [
        "vehicle = connect(\"127.0.0.1:14550\", wait_ready=True)"
      ],
      "execution_count": null,
      "outputs": [
        {
          "output_type": "stream",
          "text": [
            "CRITICAL:autopilot:APM:Copter V3.3 (d6053245)\n",
            "CRITICAL:autopilot:Frame: QUAD\n"
          ],
          "name": "stderr"
        }
      ]
    },
    {
      "cell_type": "code",
      "metadata": {
        "id": "D6grWwOcH8Ms",
        "outputId": "a842d0ae-6012-499a-bc31-01dd76efe310"
      },
      "source": [
        "print(vehicle.battery)"
      ],
      "execution_count": null,
      "outputs": [
        {
          "output_type": "stream",
          "text": [
            "Battery:voltage=12.587,current=0.0,level=67\n"
          ],
          "name": "stdout"
        }
      ]
    },
    {
      "cell_type": "code",
      "metadata": {
        "id": "IAmm6E6oH8Ms",
        "outputId": "5d3a6861-c229-4649-9ebb-81891d7891c6"
      },
      "source": [
        "print(vehicle.is_armable)"
      ],
      "execution_count": null,
      "outputs": [
        {
          "output_type": "stream",
          "text": [
            "True\n"
          ],
          "name": "stdout"
        }
      ]
    },
    {
      "cell_type": "code",
      "metadata": {
        "id": "xShNBfOXH8Ms",
        "outputId": "281a585f-e490-41e3-a6d7-4c43228d00ea"
      },
      "source": [
        "print(vehicle.mode)"
      ],
      "execution_count": null,
      "outputs": [
        {
          "output_type": "stream",
          "text": [
            "VehicleMode:LAND\n"
          ],
          "name": "stdout"
        }
      ]
    },
    {
      "cell_type": "markdown",
      "metadata": {
        "id": "RBXQXAbrU-wb"
      },
      "source": [
        "## Drone Control Class\n",
        "\n",
        "The drone control class has two important methods\n",
        "\n",
        "1. `send_ned_velocity` - this wrapper function wraps around a low level function provided by the `dronekit` library. It takes as input the the 3 velocities in x,y,z directions and passes them along to the vehicle. These velocities are in local frame of reference of the vehicle.\n",
        "\n",
        "2. `steer` - this function takes as input the recognized gesture and then calls `send_ned_velocity` appropriately based on the direction of motion."
      ]
    },
    {
      "cell_type": "code",
      "metadata": {
        "id": "lEJ7NGM9H8Ms"
      },
      "source": [
        "class DroneControl:\n",
        "    \n",
        "    def __init__(self , vehicle, messenger_client , time_interval=1):\n",
        "        self.vehicle = vehicle\n",
        "        self.messenger_client = messenger_client\n",
        "        self.time_interval = time_interval\n",
        "    \n",
        "    def send_ned_velocity(self,velocity_x, velocity_y, velocity_z, duration):\n",
        "        msg = vehicle.message_factory.set_position_target_local_ned_encode(\n",
        "            0,       # time_boot_ms (not used)\n",
        "            0, 0,    # target system, target component\n",
        "            mavutil.mavlink.MAV_FRAME_LOCAL_NED, # frame\n",
        "            0b0000111111000111, # type_mask (only speeds enabled)\n",
        "            0, 0, 0, # x, y, z positions (not used)\n",
        "            velocity_x, velocity_y, velocity_z, # x, y, z velocity in m/s\n",
        "            0, 0, 0, # x, y, z acceleration (not supported yet, ignored in GCS_Mavlink)\n",
        "            0, 0)    # yaw, yaw_rate (not supported yet, ignored in GCS_Mavlink) \n",
        "\n",
        "        # send command to vehicle on 1 Hz cycle\n",
        "        for x in range(0,duration):\n",
        "            vehicle.send_mavlink(msg)\n",
        "            time.sleep(1) \n",
        "    \n",
        "    def steer(self,data):\n",
        "        if str(data).find(\"LEFT\") > -1:\n",
        "            self.send_ned_velocity(0,0.5,0,self.time_interval)\n",
        "        if str(data).find(\"RIGHT\") > -1:\n",
        "            self.send_ned_velocity(0,-0.5,0,self.time_interval)\n",
        "        if str(data).find(\"ASCEND\") > -1:\n",
        "            self.send_ned_velocity(0.5,0,0,self.time_interval)\n",
        "        if str(data).find(\"DESCEND\") > -1:\n",
        "            self.send_ned_velocity(-0.5,0,0,self.time_interval)\n",
        "        print(data)\n",
        "    \n",
        "    def set_to_guided(self):\n",
        "        self.vehicle.mode = VehicleMode(\"GUIDED\")\n",
        "        self.vehicle.armed= True\n",
        "        self.vehicle.simple_takeoff(25)\n",
        "        \n",
        "    def gesture_control(self):\n",
        "        self.messenger_client.relay_msg(self.steer)\n",
        "    "
      ],
      "execution_count": null,
      "outputs": []
    },
    {
      "cell_type": "markdown",
      "metadata": {
        "id": "DIsIi4csVixY"
      },
      "source": [
        "Now we pass along the `vehicle` and the connection `client` to our `DroneControl` class and call the `gesture_control` method. This method will cause the code to go into an infinite loop of recognizing gestures and controlling the drone."
      ]
    },
    {
      "cell_type": "code",
      "metadata": {
        "id": "a64xEYr7H8Mt"
      },
      "source": [
        "drone_control = DroneControl(vehicle , client , 1)"
      ],
      "execution_count": null,
      "outputs": []
    },
    {
      "cell_type": "code",
      "metadata": {
        "id": "kFi0fKb2H8Mt",
        "outputId": "15e9238f-790e-476d-a50e-3ff40eed2844"
      },
      "source": [
        "drone_control.set_to_guided()"
      ],
      "execution_count": null,
      "outputs": [
        {
          "output_type": "stream",
          "text": [
            "ERROR:autopilot:ARMING MOTORS\n",
            "CRITICAL:autopilot:Initialising APM...\n"
          ],
          "name": "stderr"
        }
      ]
    },
    {
      "cell_type": "code",
      "metadata": {
        "id": "0qui0LQKH8Mu",
        "outputId": "fb3c98d2-1ac1-4a8a-e60d-cb46ed80f000"
      },
      "source": [
        "drone_control.gesture_control()"
      ],
      "execution_count": null,
      "outputs": [
        {
          "output_type": "stream",
          "text": [
            "b'NONENONENONENONENONENONENONENONENONENONENONENONENONENONENONENONENONENONENONENONE'\n",
            "b'NONE'\n",
            "b'NONE'\n",
            "b'NONE'\n",
            "b'NONE'\n",
            "b'NONE'\n",
            "b'NONE'\n",
            "b'NONE'\n",
            "b'NONE'\n",
            "b'NONE'\n",
            "b'NONE'\n",
            "b'NONE'\n",
            "b'NONE'\n",
            "b'NONE'\n",
            "b'NONE'\n",
            "b'NONE'\n",
            "b'NONE'\n",
            "b'NONE'\n",
            "b'NONE'\n",
            "b'LEFT'\n",
            "b'LEFT'\n",
            "b'LEFT'\n",
            "b'LEFT'\n",
            "b'LEFT'\n",
            "b'LEFT'\n",
            "b'LEFT'\n",
            "b'LEFT'\n",
            "b'LEFT'\n",
            "b'LEFT'\n",
            "b'LEFT'\n",
            "b'LEFT'\n",
            "b'LEFT'\n",
            "b'LEFT'\n",
            "b'LEFT'\n",
            "b'LEFT'\n",
            "b'LEFT'\n",
            "b'LEFT'\n",
            "b'LEFT'\n",
            "b'LEFT'\n",
            "b'NONE'\n",
            "b'LEFT'\n",
            "b'LEFT'\n",
            "b'LEFT'\n",
            "b'ASCEND'\n",
            "b'ASCEND'\n",
            "b'ASCEND'\n",
            "b'RIGHT'\n",
            "b'ASCEND'\n",
            "b'ASCEND'\n",
            "b'ASCEND'\n",
            "b'ASCEND'\n",
            "b'ASCEND'\n",
            "b'ASCEND'\n",
            "b'ASCEND'\n",
            "b'ASCEND'\n",
            "b'ASCEND'\n",
            "b'ASCEND'\n",
            "b'ASCEND'\n",
            "b'ASCEND'\n",
            "b'ASCEND'\n",
            "b'ASCEND'\n",
            "b'ASCEND'\n",
            "b'ASCEND'\n",
            "b'ASCEND'\n",
            "b'ASCEND'\n",
            "b'ASCEND'\n",
            "b'ASCEND'\n",
            "b'ASCEND'\n",
            "b'RIGHT'\n",
            "b'RIGHT'\n",
            "b'RIGHT'\n",
            "b'RIGHT'\n",
            "b'RIGHT'\n",
            "b'RIGHT'\n",
            "b'RIGHT'\n",
            "b'RIGHT'\n",
            "b'RIGHT'\n",
            "b'RIGHT'\n",
            "b'RIGHT'\n",
            "b'RIGHT'\n",
            "b'RIGHT'\n",
            "b'RIGHT'\n",
            "b'RIGHT'\n",
            "b'RIGHT'\n",
            "b'RIGHT'\n",
            "b'RIGHT'\n",
            "b'RIGHT'\n",
            "b'DESCEND'\n",
            "b'DESCEND'\n",
            "b'DESCEND'\n",
            "b'RIGHT'\n",
            "b'DESCEND'\n",
            "b'DESCEND'\n",
            "b'DESCEND'\n",
            "b'DESCEND'\n",
            "b'DESCEND'\n",
            "b'DESCEND'\n",
            "b'DESCEND'\n",
            "b'DESCEND'\n",
            "b'DESCEND'\n",
            "b'DESCEND'\n",
            "b'DESCEND'\n",
            "b'DESCEND'\n",
            "b'LEFT'\n",
            "b'LEFT'\n",
            "b'NONE'\n",
            "b'NONE'\n",
            "b'NONE'\n",
            "b'RIGHT'\n",
            "b'RIGHT'\n",
            "b'RIGHT'\n",
            "b'RIGHT'\n",
            "b'RIGHT'\n",
            "b'RIGHT'\n",
            "b'RIGHT'\n",
            "b'RIGHT'\n",
            "b'RIGHT'\n",
            "b'RIGHT'\n",
            "b'RIGHT'\n",
            "b'RIGHT'\n",
            "b'RIGHT'\n",
            "b'RIGHT'\n",
            "b'RIGHT'\n",
            "b'RIGHT'\n",
            "b'RIGHT'\n",
            "b'RIGHT'\n",
            "b'RIGHT'\n",
            "b'RIGHT'\n",
            "b'RIGHT'\n",
            "b'ASCEND'\n",
            "b'ASCEND'\n",
            "b'ASCEND'\n",
            "b'ASCEND'\n",
            "b'ASCEND'\n",
            "b'ASCEND'\n",
            "b'ASCEND'\n",
            "b'ASCEND'\n",
            "b'ASCEND'\n",
            "b'ASCEND'\n",
            "b'ASCEND'\n",
            "b'ASCEND'\n",
            "b'NONE'\n",
            "b'NONE'\n",
            "b'NONE'\n",
            "b'NONE'\n",
            "b'NONE'\n",
            "b'NONE'\n",
            "b'NONE'\n",
            "b'NONE'\n",
            "b'NONE'\n",
            "b'NONE'\n",
            "b'NONE'\n",
            "b'NONE'\n",
            "b'NONE'\n",
            "b'NONE'\n",
            "b'NONE'\n",
            "b'NONE'\n",
            "b'NONE'\n",
            "b'NONE'\n",
            "b'NONE'\n",
            "b'NONE'\n",
            "b'NONE'\n",
            "b'NONE'\n",
            "b'NONE'\n",
            "b'NONE'\n",
            "b'NONE'\n",
            "b'NONE'\n",
            "b'NONE'\n",
            "b'NONE'\n",
            "b'NONE'\n",
            "b'NONE'\n",
            "b'NONE'\n",
            "b'NONE'\n",
            "b'NONE'\n",
            "b'NONE'\n",
            "b'NONE'\n",
            "b'NONE'\n",
            "b'NONE'\n",
            "b'NONE'\n",
            "b'NONE'\n",
            "b'NONE'\n",
            "b'NONE'\n",
            "b'NONE'\n",
            "b'NONE'\n",
            "b'NONE'\n",
            "b'NONE'\n",
            "b'NONE'\n",
            "b'NONE'\n",
            "b'NONE'\n",
            "b'NONE'\n",
            "b'NONE'\n",
            "b'NONE'\n",
            "b'NONE'\n",
            "b'NONE'\n",
            "b'NONE'\n",
            "b'NONE'\n",
            "b'NONE'\n",
            "b'NONE'\n",
            "b'NONE'\n",
            "b'NONE'\n",
            "b'NONE'\n",
            "b'NONE'\n",
            "b'NONE'\n",
            "b'NONE'\n",
            "b'NONE'\n",
            "b'NONE'\n",
            "b'NONE'\n",
            "b'NONE'\n",
            "b'NONE'\n",
            "b'NONE'\n",
            "b'NONE'\n",
            "b'NONE'\n",
            "b'NONE'\n",
            "b'NONE'\n",
            "b'NONE'\n",
            "b'NONE'\n",
            "b'NONE'\n",
            "b'NONE'\n",
            "b'NONE'\n",
            "b'NONE'\n",
            "b'NONE'\n",
            "b'NONE'\n",
            "b'NONE'\n",
            "b'NONE'\n",
            "b'NONE'\n",
            "b'NONE'\n",
            "b'NONE'\n",
            "b'NONE'\n",
            "b'NONE'\n",
            "b'NONE'\n",
            "b'NONE'\n",
            "b'NONE'\n",
            "b'NONE'\n",
            "b'NONE'\n",
            "b'NONE'\n",
            "b'NONE'\n",
            "b'NONE'\n",
            "b'NONE'\n",
            "b'NONE'\n",
            "b'NONE'\n",
            "b'NONE'\n",
            "b'NONE'\n",
            "b'NONE'\n",
            "b'NONE'\n",
            "b'NONE'\n",
            "b'NONE'\n",
            "b'NONE'\n",
            "b'NONE'\n",
            "b'NONE'\n",
            "b'NONE'\n",
            "b'NONE'\n",
            "b'NONE'\n",
            "b'NONE'\n",
            "b'NONE'\n",
            "b'NONE'\n",
            "b'NONE'\n",
            "b'NONE'\n",
            "b'NONE'\n",
            "b'NONE'\n"
          ],
          "name": "stdout"
        },
        {
          "output_type": "stream",
          "text": [
            "ERROR:autopilot:DISARMING MOTORS\n"
          ],
          "name": "stderr"
        },
        {
          "output_type": "stream",
          "text": [
            "b'NONE'\n",
            "b'NONE'\n",
            "b'NONE'\n",
            "b'NONE'\n",
            "b'NONE'\n",
            "b'NONE'\n",
            "b'NONE'\n",
            "b'NONE'\n",
            "b'NONE'\n",
            "b'NONE'\n",
            "b'NONE'\n",
            "b'NONE'\n",
            "b'NONE'\n",
            "b'NONE'\n",
            "b'NONE'\n",
            "b'NONE'\n",
            "b'NONE'\n",
            "b'NONE'\n",
            "b'NONE'\n",
            "b'NONE'\n",
            "b'NONE'\n",
            "b'NONE'\n",
            "b'NONE'\n",
            "b'NONE'\n",
            "b'NONE'\n",
            "b'NONE'\n",
            "b'NONE'\n",
            "b'NONE'\n",
            "b'NONE'\n",
            "b'NONE'\n",
            "b'NONE'\n",
            "b'NONE'\n",
            "b'NONE'\n",
            "b'NONE'\n",
            "b'NONE'\n",
            "b'NONE'\n",
            "b'NONE'\n",
            "b'NONE'\n",
            "b'NONE'\n",
            "b'NONE'\n",
            "b'NONE'\n",
            "b'NONE'\n",
            "b'NONE'\n",
            "b'NONE'\n",
            "b'NONE'\n",
            "b'NONE'\n",
            "b'NONE'\n",
            "b'NONE'\n",
            "b'NONE'\n",
            "b'NONE'\n",
            "b'NONE'\n",
            "b'NONE'\n",
            "b'NONE'\n",
            "b'NONE'\n",
            "b'NONE'\n",
            "b'NONE'\n",
            "b'NONE'\n",
            "b'NONE'\n"
          ],
          "name": "stdout"
        },
        {
          "output_type": "stream",
          "text": [
            "WARNING:dronekit:Link timeout, no heartbeat in last 5 seconds\n"
          ],
          "name": "stderr"
        }
      ]
    },
    {
      "cell_type": "code",
      "metadata": {
        "id": "fdkWhZ5TH8Mu"
      },
      "source": [
        ""
      ],
      "execution_count": null,
      "outputs": []
    }
  ]
}