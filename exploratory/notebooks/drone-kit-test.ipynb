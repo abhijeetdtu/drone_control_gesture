{
 "cells": [
  {
   "cell_type": "code",
   "execution_count": 3,
   "id": "further-brazil",
   "metadata": {},
   "outputs": [],
   "source": [
    "import socket"
   ]
  },
  {
   "cell_type": "code",
   "execution_count": 6,
   "id": "useful-detroit",
   "metadata": {},
   "outputs": [],
   "source": [
    "host = 'localhost'\n",
    "port = 42425\n",
    "s = socket.socket()\n",
    "s.bind((host, port))\n",
    "s.listen(1)"
   ]
  },
  {
   "cell_type": "code",
   "execution_count": 17,
   "id": "complimentary-product",
   "metadata": {},
   "outputs": [],
   "source": [
    "c, addr = s.accept()"
   ]
  },
  {
   "cell_type": "code",
   "execution_count": 18,
   "id": "equivalent-credits",
   "metadata": {},
   "outputs": [
    {
     "name": "stdout",
     "output_type": "stream",
     "text": [
      "B'NEXT_STATE'\n",
      "B'NEXT_STATE'\n",
      "B'NEXT_STATE'\n",
      "B'NEXT_STATE'\n",
      "B'NEXT_STATE'\n",
      "B'NEXT_STATE'\n",
      "B'NEXT_STATE'\n",
      "B'NEXT_STATE'\n",
      "B'NEXT_STATE'\n",
      "B'NEXT_STATE'\n",
      "B'NEXT_STATE'\n",
      "B'NEXT_STATE'\n",
      "B'NEXT_STATE'\n",
      "B'NEXT_STATE'\n",
      "B'NEXT_STATE'\n",
      "B'NEXT_STATE'\n",
      "B'NEXT_STATE'\n",
      "B'NEXT_STATE'\n",
      "B'NEXT_STATE'\n",
      "B'NEXT_STATE'\n",
      "B'NEXT_STATE'\n",
      "B'NEXT_STATE'\n",
      "B'NEXT_STATE'\n",
      "B'NEXT_STATE'\n",
      "B'NEXT_STATE'\n",
      "B'NEXT_STATE'\n",
      "B'NEXT_STATE'\n",
      "B'NEXT_STATE'\n",
      "B'NEXT_STATE'\n",
      "B'NEXT_STATE'\n",
      "B'NEXT_STATE'\n",
      "B'NEXT_STATE'\n",
      "B'NEXT_STATE'\n",
      "B'NEXT_STATE'\n",
      "B'NEXT_STATE'\n",
      "B'NEXT_STATE'\n",
      "B'NEXT_STATE'\n",
      "B'NEXT_STATE'\n",
      "B'NEXT_STATE'\n",
      "B'NEXT_STATE'\n",
      "B'NEXT_STATE'\n",
      "B'NEXT_STATE'\n",
      "B'NEXT_STATE'\n",
      "B'NEXT_STATE'\n",
      "B'NEXT_STATE'\n",
      "B'NEXT_STATE'\n",
      "B'NEXT_STATE'\n",
      "B'NEXT_STATE'\n",
      "B'NEXT_STATE'\n",
      "B'NEXT_STATE'\n",
      "B'NEXT_STATE'\n",
      "B'NEXT_STATE'\n",
      "B'NEXT_STATE'\n",
      "B'NEXT_STATE'\n",
      "B'NEXT_STATE'\n",
      "B'NEXT_STATE'\n",
      "B'NEXT_STATE'\n",
      "B'NEXT_STATE'\n",
      "B'NEXT_STATE'\n",
      "B'NEXT_STATE'\n",
      "B'NEXT_STATE'\n",
      "B'NEXT_STATE'\n",
      "B'NEXT_STATE'\n",
      "B'NEXT_STATE'\n",
      "B'NEXT_STATE'\n",
      "B'NEXT_STATE'\n",
      "B'NEXT_STATE'\n",
      "B'NEXT_STATE'\n",
      "B'NEXT_STATE'\n",
      "B'NEXT_STATE'\n",
      "B'NEXT_STATE'\n",
      "B'NEXT_STATE'\n",
      "B'NEXT_STATE'\n",
      "B'NEXT_STATE'\n",
      "B'NEXT_STATE'\n",
      "B'NEXT_STATE'\n",
      "B'NEXT_STATE'\n",
      "B'NEXT_STATE'\n",
      "B'NEXT_STATE'\n",
      "B'NEXT_STATE'\n",
      "B'NEXT_STATE'\n",
      "B'NEXT_STATE'\n",
      "B'NEXT_STATE'\n",
      "B'NEXT_STATE'\n",
      "B'NEXT_STATE'\n",
      "B'NEXT_STATE'\n",
      "B'NEXT_STATE'\n",
      "B'NEXT_STATE'\n",
      "B'NEXT_STATE'\n",
      "B'NEXT_STATE'\n",
      "B'NEXT_STATE'\n",
      "B'NEXT_STATE'\n",
      "B'NEXT_STATE'\n",
      "B'NEXT_STATE'\n",
      "B'NEXT_STATE'\n",
      "B'NEXT_STATE'\n",
      "B'NEXT_STATE'\n",
      "B'NEXT_STATE'\n",
      "B'NEXT_STATE'\n",
      "B'NEXT_STATE'\n"
     ]
    }
   ],
   "source": [
    "while True:\n",
    "    data = c.recv(1024)\n",
    "    if not data:\n",
    "        break\n",
    "    data = str(data).upper()\n",
    "    print(data)\n",
    "    c.send(\"LEFT\".encode(\"utf-8\"))"
   ]
  },
  {
   "cell_type": "code",
   "execution_count": 21,
   "id": "threatened-korean",
   "metadata": {},
   "outputs": [],
   "source": [
    "c.close()\n",
    "s.close()"
   ]
  },
  {
   "cell_type": "code",
   "execution_count": 2,
   "id": "representative-conservation",
   "metadata": {},
   "outputs": [
    {
     "name": "stdout",
     "output_type": "stream",
     "text": [
      "Starting copter simulator (SITL)\n",
      "Downloading SITL from http://dronekit-assets.s3.amazonaws.com/sitl/copter/sitl-linux-copter-3.3.tar.gz\n",
      "Download Complete.\n",
      "Payload Extracted.\n",
      "Ready to boot.\n"
     ]
    },
    {
     "ename": "OSError",
     "evalue": "[Errno 8] Exec format error: '/home/unccv/.dronekit/sitl/copter-3.3/apm'",
     "output_type": "error",
     "traceback": [
      "\u001b[0;31m---------------------------------------------------------------------------\u001b[0m",
      "\u001b[0;31mOSError\u001b[0m                                   Traceback (most recent call last)",
      "\u001b[0;32m<ipython-input-2-8211e911d589>\u001b[0m in \u001b[0;36m<module>\u001b[0;34m\u001b[0m\n\u001b[1;32m      1\u001b[0m \u001b[0;32mimport\u001b[0m \u001b[0mdronekit_sitl\u001b[0m\u001b[0;34m\u001b[0m\u001b[0;34m\u001b[0m\u001b[0m\n\u001b[0;32m----> 2\u001b[0;31m \u001b[0msitl\u001b[0m \u001b[0;34m=\u001b[0m \u001b[0mdronekit_sitl\u001b[0m\u001b[0;34m.\u001b[0m\u001b[0mstart_default\u001b[0m\u001b[0;34m(\u001b[0m\u001b[0;34m)\u001b[0m\u001b[0;34m\u001b[0m\u001b[0;34m\u001b[0m\u001b[0m\n\u001b[0m\u001b[1;32m      3\u001b[0m \u001b[0mconnection_string\u001b[0m \u001b[0;34m=\u001b[0m \u001b[0msitl\u001b[0m\u001b[0;34m.\u001b[0m\u001b[0mconnection_string\u001b[0m\u001b[0;34m(\u001b[0m\u001b[0;34m)\u001b[0m\u001b[0;34m\u001b[0m\u001b[0;34m\u001b[0m\u001b[0m\n\u001b[1;32m      4\u001b[0m \u001b[0;34m\u001b[0m\u001b[0m\n\u001b[1;32m      5\u001b[0m \u001b[0;31m# Import DroneKit-Python\u001b[0m\u001b[0;34m\u001b[0m\u001b[0;34m\u001b[0m\u001b[0;34m\u001b[0m\u001b[0m\n",
      "\u001b[0;32m~/.local/lib/python3.6/site-packages/dronekit_sitl/__init__.py\u001b[0m in \u001b[0;36mstart_default\u001b[0;34m(lat, lon)\u001b[0m\n\u001b[1;32m    460\u001b[0m     \u001b[0;32mif\u001b[0m \u001b[0mlat\u001b[0m \u001b[0;32mis\u001b[0m \u001b[0;32mnot\u001b[0m \u001b[0;32mNone\u001b[0m\u001b[0;34m:\u001b[0m\u001b[0;34m\u001b[0m\u001b[0;34m\u001b[0m\u001b[0m\n\u001b[1;32m    461\u001b[0m         \u001b[0msitl_args\u001b[0m\u001b[0;34m.\u001b[0m\u001b[0mappend\u001b[0m\u001b[0;34m(\u001b[0m\u001b[0;34m'--home=%f,%f,584,353'\u001b[0m \u001b[0;34m%\u001b[0m \u001b[0;34m(\u001b[0m\u001b[0mlat\u001b[0m\u001b[0;34m,\u001b[0m\u001b[0mlon\u001b[0m\u001b[0;34m,\u001b[0m\u001b[0;34m)\u001b[0m\u001b[0;34m)\u001b[0m\u001b[0;34m\u001b[0m\u001b[0;34m\u001b[0m\u001b[0m\n\u001b[0;32m--> 462\u001b[0;31m     \u001b[0msitl\u001b[0m\u001b[0;34m.\u001b[0m\u001b[0mlaunch\u001b[0m\u001b[0;34m(\u001b[0m\u001b[0msitl_args\u001b[0m\u001b[0;34m,\u001b[0m \u001b[0mawait_ready\u001b[0m\u001b[0;34m=\u001b[0m\u001b[0;32mTrue\u001b[0m\u001b[0;34m,\u001b[0m \u001b[0mrestart\u001b[0m\u001b[0;34m=\u001b[0m\u001b[0;32mTrue\u001b[0m\u001b[0;34m)\u001b[0m\u001b[0;34m\u001b[0m\u001b[0;34m\u001b[0m\u001b[0m\n\u001b[0m\u001b[1;32m    463\u001b[0m     \u001b[0;32mreturn\u001b[0m \u001b[0msitl\u001b[0m\u001b[0;34m\u001b[0m\u001b[0;34m\u001b[0m\u001b[0m\n\u001b[1;32m    464\u001b[0m \u001b[0;34m\u001b[0m\u001b[0m\n",
      "\u001b[0;32m~/.local/lib/python3.6/site-packages/dronekit_sitl/__init__.py\u001b[0m in \u001b[0;36mlaunch\u001b[0;34m(self, initial_args, verbose, await_ready, restart, wd, use_saved_data, speedup)\u001b[0m\n\u001b[1;32m    249\u001b[0m                 \u001b[0;32mraise\u001b[0m \u001b[0mException\u001b[0m\u001b[0;34m(\u001b[0m\u001b[0;34m'Told to use saved data, but (%s) does not exist'\u001b[0m \u001b[0;34m%\u001b[0m \u001b[0;34m(\u001b[0m\u001b[0meeprom_path\u001b[0m\u001b[0;34m,\u001b[0m\u001b[0;34m)\u001b[0m\u001b[0;34m)\u001b[0m\u001b[0;34m\u001b[0m\u001b[0;34m\u001b[0m\u001b[0m\n\u001b[1;32m    250\u001b[0m \u001b[0;34m\u001b[0m\u001b[0m\n\u001b[0;32m--> 251\u001b[0;31m         \u001b[0mcaps\u001b[0m \u001b[0;34m=\u001b[0m \u001b[0mArdupilotCapabilities\u001b[0m\u001b[0;34m(\u001b[0m\u001b[0mself\u001b[0m\u001b[0;34m.\u001b[0m\u001b[0mpath\u001b[0m\u001b[0;34m)\u001b[0m\u001b[0;34m\u001b[0m\u001b[0;34m\u001b[0m\u001b[0m\n\u001b[0m\u001b[1;32m    252\u001b[0m         \u001b[0mself\u001b[0m\u001b[0;34m.\u001b[0m\u001b[0musing_sim\u001b[0m \u001b[0;34m=\u001b[0m \u001b[0mcaps\u001b[0m\u001b[0;34m.\u001b[0m\u001b[0musing_sim\u001b[0m \u001b[0;31m# compatability\u001b[0m\u001b[0;34m\u001b[0m\u001b[0;34m\u001b[0m\u001b[0m\n\u001b[1;32m    253\u001b[0m \u001b[0;34m\u001b[0m\u001b[0m\n",
      "\u001b[0;32m~/.local/lib/python3.6/site-packages/dronekit_sitl/__init__.py\u001b[0m in \u001b[0;36m__init__\u001b[0;34m(self, path)\u001b[0m\n\u001b[1;32m    158\u001b[0m             \u001b[0mself\u001b[0m\u001b[0;34m.\u001b[0m\u001b[0mmodel\u001b[0m \u001b[0;34m=\u001b[0m \u001b[0;34m'quad'\u001b[0m\u001b[0;34m\u001b[0m\u001b[0;34m\u001b[0m\u001b[0m\n\u001b[1;32m    159\u001b[0m \u001b[0;34m\u001b[0m\u001b[0m\n\u001b[0;32m--> 160\u001b[0;31m         \u001b[0mprocess\u001b[0m \u001b[0;34m=\u001b[0m \u001b[0msubprocess\u001b[0m\u001b[0;34m.\u001b[0m\u001b[0mPopen\u001b[0m\u001b[0;34m(\u001b[0m\u001b[0;34m[\u001b[0m\u001b[0mpath\u001b[0m\u001b[0;34m,\u001b[0m \u001b[0;34m'--help'\u001b[0m\u001b[0;34m]\u001b[0m\u001b[0;34m,\u001b[0m \u001b[0mstdout\u001b[0m\u001b[0;34m=\u001b[0m\u001b[0msubprocess\u001b[0m\u001b[0;34m.\u001b[0m\u001b[0mPIPE\u001b[0m\u001b[0;34m)\u001b[0m\u001b[0;34m\u001b[0m\u001b[0;34m\u001b[0m\u001b[0m\n\u001b[0m\u001b[1;32m    161\u001b[0m         \u001b[0mhelptext\u001b[0m \u001b[0;34m=\u001b[0m \u001b[0mstr\u001b[0m\u001b[0;34m(\u001b[0m\u001b[0mprocess\u001b[0m\u001b[0;34m.\u001b[0m\u001b[0mcommunicate\u001b[0m\u001b[0;34m(\u001b[0m\u001b[0;34m)\u001b[0m\u001b[0;34m[\u001b[0m\u001b[0;36m0\u001b[0m\u001b[0;34m]\u001b[0m\u001b[0;34m)\u001b[0m\u001b[0;34m\u001b[0m\u001b[0;34m\u001b[0m\u001b[0m\n\u001b[1;32m    162\u001b[0m \u001b[0;34m\u001b[0m\u001b[0m\n",
      "\u001b[0;32m/usr/lib/python3.6/subprocess.py\u001b[0m in \u001b[0;36m__init__\u001b[0;34m(self, args, bufsize, executable, stdin, stdout, stderr, preexec_fn, close_fds, shell, cwd, env, universal_newlines, startupinfo, creationflags, restore_signals, start_new_session, pass_fds, encoding, errors)\u001b[0m\n\u001b[1;32m    727\u001b[0m                                 \u001b[0mc2pread\u001b[0m\u001b[0;34m,\u001b[0m \u001b[0mc2pwrite\u001b[0m\u001b[0;34m,\u001b[0m\u001b[0;34m\u001b[0m\u001b[0;34m\u001b[0m\u001b[0m\n\u001b[1;32m    728\u001b[0m                                 \u001b[0merrread\u001b[0m\u001b[0;34m,\u001b[0m \u001b[0merrwrite\u001b[0m\u001b[0;34m,\u001b[0m\u001b[0;34m\u001b[0m\u001b[0;34m\u001b[0m\u001b[0m\n\u001b[0;32m--> 729\u001b[0;31m                                 restore_signals, start_new_session)\n\u001b[0m\u001b[1;32m    730\u001b[0m         \u001b[0;32mexcept\u001b[0m\u001b[0;34m:\u001b[0m\u001b[0;34m\u001b[0m\u001b[0;34m\u001b[0m\u001b[0m\n\u001b[1;32m    731\u001b[0m             \u001b[0;31m# Cleanup if the child failed starting.\u001b[0m\u001b[0;34m\u001b[0m\u001b[0;34m\u001b[0m\u001b[0;34m\u001b[0m\u001b[0m\n",
      "\u001b[0;32m/usr/lib/python3.6/subprocess.py\u001b[0m in \u001b[0;36m_execute_child\u001b[0;34m(self, args, executable, preexec_fn, close_fds, pass_fds, cwd, env, startupinfo, creationflags, shell, p2cread, p2cwrite, c2pread, c2pwrite, errread, errwrite, restore_signals, start_new_session)\u001b[0m\n\u001b[1;32m   1362\u001b[0m                         \u001b[0;32mif\u001b[0m \u001b[0merrno_num\u001b[0m \u001b[0;34m==\u001b[0m \u001b[0merrno\u001b[0m\u001b[0;34m.\u001b[0m\u001b[0mENOENT\u001b[0m\u001b[0;34m:\u001b[0m\u001b[0;34m\u001b[0m\u001b[0;34m\u001b[0m\u001b[0m\n\u001b[1;32m   1363\u001b[0m                             \u001b[0merr_msg\u001b[0m \u001b[0;34m+=\u001b[0m \u001b[0;34m': '\u001b[0m \u001b[0;34m+\u001b[0m \u001b[0mrepr\u001b[0m\u001b[0;34m(\u001b[0m\u001b[0merr_filename\u001b[0m\u001b[0;34m)\u001b[0m\u001b[0;34m\u001b[0m\u001b[0;34m\u001b[0m\u001b[0m\n\u001b[0;32m-> 1364\u001b[0;31m                     \u001b[0;32mraise\u001b[0m \u001b[0mchild_exception_type\u001b[0m\u001b[0;34m(\u001b[0m\u001b[0merrno_num\u001b[0m\u001b[0;34m,\u001b[0m \u001b[0merr_msg\u001b[0m\u001b[0;34m,\u001b[0m \u001b[0merr_filename\u001b[0m\u001b[0;34m)\u001b[0m\u001b[0;34m\u001b[0m\u001b[0;34m\u001b[0m\u001b[0m\n\u001b[0m\u001b[1;32m   1365\u001b[0m                 \u001b[0;32mraise\u001b[0m \u001b[0mchild_exception_type\u001b[0m\u001b[0;34m(\u001b[0m\u001b[0merr_msg\u001b[0m\u001b[0;34m)\u001b[0m\u001b[0;34m\u001b[0m\u001b[0;34m\u001b[0m\u001b[0m\n\u001b[1;32m   1366\u001b[0m \u001b[0;34m\u001b[0m\u001b[0m\n",
      "\u001b[0;31mOSError\u001b[0m: [Errno 8] Exec format error: '/home/unccv/.dronekit/sitl/copter-3.3/apm'"
     ]
    }
   ],
   "source": [
    "import dronekit_sitl\n",
    "sitl = dronekit_sitl.start_default()\n",
    "connection_string = sitl.connection_string()\n",
    "\n",
    "# Import DroneKit-Python\n",
    "from dronekit import connect, VehicleMode\n",
    "\n",
    "# Connect to the Vehicle.\n",
    "print(\"Connecting to vehicle on: %s\" % (connection_string,))\n",
    "vehicle = connect(connection_string, wait_ready=True)"
   ]
  },
  {
   "cell_type": "code",
   "execution_count": null,
   "id": "cloudy-croatia",
   "metadata": {},
   "outputs": [],
   "source": []
  }
 ],
 "metadata": {
  "kernelspec": {
   "display_name": "Python 3",
   "language": "python",
   "name": "python3"
  },
  "language_info": {
   "codemirror_mode": {
    "name": "ipython",
    "version": 3
   },
   "file_extension": ".py",
   "mimetype": "text/x-python",
   "name": "python",
   "nbconvert_exporter": "python",
   "pygments_lexer": "ipython3",
   "version": "3.6.9"
  }
 },
 "nbformat": 4,
 "nbformat_minor": 5
}
