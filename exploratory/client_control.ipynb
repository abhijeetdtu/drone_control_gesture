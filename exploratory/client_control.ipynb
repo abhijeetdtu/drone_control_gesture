{
 "cells": [
  {
   "cell_type": "code",
   "execution_count": 42,
   "metadata": {},
   "outputs": [],
   "source": [
    "import socket\n",
    "import time\n",
    "from pymavlink import mavutil"
   ]
  },
  {
   "cell_type": "code",
   "execution_count": 6,
   "metadata": {},
   "outputs": [],
   "source": [
    "class MessengerClient:\n",
    "    def __init__(self , host=\"localhost\" , port=42425):\n",
    "        self.host = host\n",
    "        self.port = port\n",
    "        self.s = socket.socket()\n",
    "    \n",
    "    def connect(self):\n",
    "        self.s.connect((self.host,self.port))\n",
    "    \n",
    "    def relay_msg(self , function):\n",
    "        try:\n",
    "            while True:\n",
    "                data = self.s.recv(1024)\n",
    "                if data is None:\n",
    "                    break\n",
    "                function(data)\n",
    "        except KeyboardInterrupt:\n",
    "            print(\"Breaking\")"
   ]
  },
  {
   "cell_type": "code",
   "execution_count": 7,
   "metadata": {},
   "outputs": [],
   "source": [
    "port = 42425\n",
    "client = MessengerClient(port = port)\n",
    "client.connect()"
   ]
  },
  {
   "cell_type": "code",
   "execution_count": 8,
   "metadata": {},
   "outputs": [],
   "source": [
    "#client.s.close()"
   ]
  },
  {
   "cell_type": "code",
   "execution_count": 9,
   "metadata": {},
   "outputs": [
    {
     "name": "stdout",
     "output_type": "stream",
     "text": [
      "Starting copter simulator (SITL)\n",
      "SITL already Downloaded and Extracted.\n",
      "Ready to boot.\n"
     ]
    }
   ],
   "source": [
    "from dronekit_sitl import SITL , start_default\n",
    "sitl = start_default()"
   ]
  },
  {
   "cell_type": "code",
   "execution_count": 10,
   "metadata": {},
   "outputs": [
    {
     "name": "stdout",
     "output_type": "stream",
     "text": [
      "Connecting to vehicle on: tcp:127.0.0.1:5760\n"
     ]
    }
   ],
   "source": [
    "connection_string = sitl.connection_string()\n",
    "print(\"Connecting to vehicle on: %s\" % (connection_string,))"
   ]
  },
  {
   "cell_type": "code",
   "execution_count": 11,
   "metadata": {},
   "outputs": [],
   "source": [
    "#mavproxy.exe --master tcp:127.0.0.1:5760 --sitl 127.0.0.1:5501 --out 127.0.0.1:14550 --out 127.0.0.1:14551              "
   ]
  },
  {
   "cell_type": "code",
   "execution_count": 12,
   "metadata": {},
   "outputs": [],
   "source": [
    "from dronekit import connect, VehicleMode"
   ]
  },
  {
   "cell_type": "code",
   "execution_count": 13,
   "metadata": {},
   "outputs": [
    {
     "name": "stderr",
     "output_type": "stream",
     "text": [
      "CRITICAL:autopilot:APM:Copter V3.3 (d6053245)\n",
      "CRITICAL:autopilot:Frame: QUAD\n"
     ]
    }
   ],
   "source": [
    "vehicle = connect(\"127.0.0.1:14550\", wait_ready=True)"
   ]
  },
  {
   "cell_type": "code",
   "execution_count": 14,
   "metadata": {},
   "outputs": [
    {
     "name": "stdout",
     "output_type": "stream",
     "text": [
      "Battery:voltage=12.587,current=0.0,level=67\n"
     ]
    }
   ],
   "source": [
    "print(vehicle.battery)"
   ]
  },
  {
   "cell_type": "code",
   "execution_count": 15,
   "metadata": {},
   "outputs": [
    {
     "name": "stdout",
     "output_type": "stream",
     "text": [
      "True\n"
     ]
    }
   ],
   "source": [
    "print(vehicle.is_armable)"
   ]
  },
  {
   "cell_type": "code",
   "execution_count": 16,
   "metadata": {},
   "outputs": [
    {
     "name": "stdout",
     "output_type": "stream",
     "text": [
      "VehicleMode:LAND\n"
     ]
    }
   ],
   "source": [
    "print(vehicle.mode)"
   ]
  },
  {
   "cell_type": "code",
   "execution_count": 48,
   "metadata": {},
   "outputs": [],
   "source": [
    "class DroneControl:\n",
    "    \n",
    "    def __init__(self , vehicle, messenger_client , time_interval=1):\n",
    "        self.vehicle = vehicle\n",
    "        self.messenger_client = messenger_client\n",
    "        self.time_interval = time_interval\n",
    "    \n",
    "    def send_ned_velocity(self,velocity_x, velocity_y, velocity_z, duration):\n",
    "        msg = vehicle.message_factory.set_position_target_local_ned_encode(\n",
    "            0,       # time_boot_ms (not used)\n",
    "            0, 0,    # target system, target component\n",
    "            mavutil.mavlink.MAV_FRAME_LOCAL_NED, # frame\n",
    "            0b0000111111000111, # type_mask (only speeds enabled)\n",
    "            0, 0, 0, # x, y, z positions (not used)\n",
    "            velocity_x, velocity_y, velocity_z, # x, y, z velocity in m/s\n",
    "            0, 0, 0, # x, y, z acceleration (not supported yet, ignored in GCS_Mavlink)\n",
    "            0, 0)    # yaw, yaw_rate (not supported yet, ignored in GCS_Mavlink) \n",
    "\n",
    "        # send command to vehicle on 1 Hz cycle\n",
    "        for x in range(0,duration):\n",
    "            vehicle.send_mavlink(msg)\n",
    "            time.sleep(1) \n",
    "    \n",
    "    def steer(self,data):\n",
    "        if str(data).find(\"LEFT\") > -1:\n",
    "            self.send_ned_velocity(0,0.5,0,self.time_interval)\n",
    "        if str(data).find(\"RIGHT\") > -1:\n",
    "            self.send_ned_velocity(0,-0.5,0,self.time_interval)\n",
    "        if str(data).find(\"ASCEND\") > -1:\n",
    "            self.send_ned_velocity(0.5,0,0,self.time_interval)\n",
    "        if str(data).find(\"DESCEND\") > -1:\n",
    "            self.send_ned_velocity(-0.5,0,0,self.time_interval)\n",
    "        print(data)\n",
    "    \n",
    "    def set_to_guided(self):\n",
    "        self.vehicle.mode = VehicleMode(\"GUIDED\")\n",
    "        self.vehicle.armed= True\n",
    "        self.vehicle.simple_takeoff(25)\n",
    "        \n",
    "    def gesture_control(self):\n",
    "        self.messenger_client.relay_msg(self.steer)\n",
    "    "
   ]
  },
  {
   "cell_type": "code",
   "execution_count": 49,
   "metadata": {},
   "outputs": [],
   "source": [
    "drone_control = DroneControl(vehicle , client , 1)"
   ]
  },
  {
   "cell_type": "code",
   "execution_count": 72,
   "metadata": {},
   "outputs": [
    {
     "name": "stderr",
     "output_type": "stream",
     "text": [
      "ERROR:autopilot:ARMING MOTORS\n",
      "CRITICAL:autopilot:Initialising APM...\n"
     ]
    }
   ],
   "source": [
    "drone_control.set_to_guided()"
   ]
  },
  {
   "cell_type": "code",
   "execution_count": null,
   "metadata": {},
   "outputs": [
    {
     "name": "stdout",
     "output_type": "stream",
     "text": [
      "b'NONENONENONENONENONENONENONENONENONENONENONENONENONENONENONENONENONENONENONENONE'\n",
      "b'NONE'\n",
      "b'NONE'\n",
      "b'NONE'\n",
      "b'NONE'\n",
      "b'NONE'\n",
      "b'NONE'\n",
      "b'NONE'\n",
      "b'NONE'\n",
      "b'NONE'\n",
      "b'NONE'\n",
      "b'NONE'\n",
      "b'NONE'\n",
      "b'NONE'\n",
      "b'NONE'\n",
      "b'NONE'\n",
      "b'NONE'\n",
      "b'NONE'\n",
      "b'NONE'\n",
      "b'LEFT'\n",
      "b'LEFT'\n",
      "b'LEFT'\n",
      "b'LEFT'\n",
      "b'LEFT'\n",
      "b'LEFT'\n",
      "b'LEFT'\n",
      "b'LEFT'\n",
      "b'LEFT'\n",
      "b'LEFT'\n",
      "b'LEFT'\n",
      "b'LEFT'\n",
      "b'LEFT'\n",
      "b'LEFT'\n",
      "b'LEFT'\n",
      "b'LEFT'\n",
      "b'LEFT'\n",
      "b'LEFT'\n",
      "b'LEFT'\n",
      "b'LEFT'\n",
      "b'NONE'\n",
      "b'LEFT'\n",
      "b'LEFT'\n",
      "b'LEFT'\n",
      "b'ASCEND'\n",
      "b'ASCEND'\n",
      "b'ASCEND'\n",
      "b'RIGHT'\n",
      "b'ASCEND'\n",
      "b'ASCEND'\n",
      "b'ASCEND'\n",
      "b'ASCEND'\n",
      "b'ASCEND'\n",
      "b'ASCEND'\n",
      "b'ASCEND'\n",
      "b'ASCEND'\n",
      "b'ASCEND'\n",
      "b'ASCEND'\n",
      "b'ASCEND'\n",
      "b'ASCEND'\n",
      "b'ASCEND'\n",
      "b'ASCEND'\n",
      "b'ASCEND'\n",
      "b'ASCEND'\n",
      "b'ASCEND'\n",
      "b'ASCEND'\n",
      "b'ASCEND'\n",
      "b'ASCEND'\n",
      "b'ASCEND'\n",
      "b'RIGHT'\n",
      "b'RIGHT'\n",
      "b'RIGHT'\n",
      "b'RIGHT'\n",
      "b'RIGHT'\n",
      "b'RIGHT'\n",
      "b'RIGHT'\n",
      "b'RIGHT'\n",
      "b'RIGHT'\n",
      "b'RIGHT'\n",
      "b'RIGHT'\n",
      "b'RIGHT'\n",
      "b'RIGHT'\n",
      "b'RIGHT'\n",
      "b'RIGHT'\n",
      "b'RIGHT'\n",
      "b'RIGHT'\n",
      "b'RIGHT'\n",
      "b'RIGHT'\n",
      "b'DESCEND'\n",
      "b'DESCEND'\n",
      "b'DESCEND'\n",
      "b'RIGHT'\n",
      "b'DESCEND'\n",
      "b'DESCEND'\n",
      "b'DESCEND'\n",
      "b'DESCEND'\n",
      "b'DESCEND'\n",
      "b'DESCEND'\n",
      "b'DESCEND'\n",
      "b'DESCEND'\n",
      "b'DESCEND'\n",
      "b'DESCEND'\n",
      "b'DESCEND'\n",
      "b'DESCEND'\n",
      "b'LEFT'\n",
      "b'LEFT'\n",
      "b'NONE'\n",
      "b'NONE'\n",
      "b'NONE'\n",
      "b'RIGHT'\n",
      "b'RIGHT'\n",
      "b'RIGHT'\n",
      "b'RIGHT'\n",
      "b'RIGHT'\n",
      "b'RIGHT'\n",
      "b'RIGHT'\n",
      "b'RIGHT'\n",
      "b'RIGHT'\n",
      "b'RIGHT'\n",
      "b'RIGHT'\n",
      "b'RIGHT'\n",
      "b'RIGHT'\n",
      "b'RIGHT'\n",
      "b'RIGHT'\n",
      "b'RIGHT'\n",
      "b'RIGHT'\n",
      "b'RIGHT'\n",
      "b'RIGHT'\n",
      "b'RIGHT'\n",
      "b'RIGHT'\n",
      "b'ASCEND'\n",
      "b'ASCEND'\n",
      "b'ASCEND'\n",
      "b'ASCEND'\n",
      "b'ASCEND'\n",
      "b'ASCEND'\n",
      "b'ASCEND'\n",
      "b'ASCEND'\n",
      "b'ASCEND'\n",
      "b'ASCEND'\n",
      "b'ASCEND'\n",
      "b'ASCEND'\n",
      "b'NONE'\n",
      "b'NONE'\n",
      "b'NONE'\n",
      "b'NONE'\n",
      "b'NONE'\n",
      "b'NONE'\n",
      "b'NONE'\n",
      "b'NONE'\n",
      "b'NONE'\n",
      "b'NONE'\n",
      "b'NONE'\n",
      "b'NONE'\n",
      "b'NONE'\n",
      "b'NONE'\n",
      "b'NONE'\n",
      "b'NONE'\n",
      "b'NONE'\n",
      "b'NONE'\n",
      "b'NONE'\n",
      "b'NONE'\n",
      "b'NONE'\n",
      "b'NONE'\n",
      "b'NONE'\n",
      "b'NONE'\n",
      "b'NONE'\n",
      "b'NONE'\n",
      "b'NONE'\n",
      "b'NONE'\n",
      "b'NONE'\n",
      "b'NONE'\n",
      "b'NONE'\n",
      "b'NONE'\n",
      "b'NONE'\n",
      "b'NONE'\n",
      "b'NONE'\n",
      "b'NONE'\n",
      "b'NONE'\n",
      "b'NONE'\n",
      "b'NONE'\n",
      "b'NONE'\n",
      "b'NONE'\n",
      "b'NONE'\n",
      "b'NONE'\n",
      "b'NONE'\n",
      "b'NONE'\n",
      "b'NONE'\n",
      "b'NONE'\n",
      "b'NONE'\n",
      "b'NONE'\n",
      "b'NONE'\n",
      "b'NONE'\n",
      "b'NONE'\n",
      "b'NONE'\n",
      "b'NONE'\n",
      "b'NONE'\n",
      "b'NONE'\n",
      "b'NONE'\n",
      "b'NONE'\n",
      "b'NONE'\n",
      "b'NONE'\n",
      "b'NONE'\n",
      "b'NONE'\n",
      "b'NONE'\n",
      "b'NONE'\n",
      "b'NONE'\n",
      "b'NONE'\n",
      "b'NONE'\n",
      "b'NONE'\n",
      "b'NONE'\n",
      "b'NONE'\n",
      "b'NONE'\n",
      "b'NONE'\n",
      "b'NONE'\n",
      "b'NONE'\n",
      "b'NONE'\n",
      "b'NONE'\n",
      "b'NONE'\n",
      "b'NONE'\n",
      "b'NONE'\n",
      "b'NONE'\n",
      "b'NONE'\n",
      "b'NONE'\n",
      "b'NONE'\n",
      "b'NONE'\n",
      "b'NONE'\n",
      "b'NONE'\n",
      "b'NONE'\n",
      "b'NONE'\n",
      "b'NONE'\n",
      "b'NONE'\n",
      "b'NONE'\n",
      "b'NONE'\n",
      "b'NONE'\n",
      "b'NONE'\n",
      "b'NONE'\n",
      "b'NONE'\n",
      "b'NONE'\n",
      "b'NONE'\n",
      "b'NONE'\n",
      "b'NONE'\n",
      "b'NONE'\n",
      "b'NONE'\n",
      "b'NONE'\n",
      "b'NONE'\n",
      "b'NONE'\n",
      "b'NONE'\n",
      "b'NONE'\n",
      "b'NONE'\n",
      "b'NONE'\n",
      "b'NONE'\n",
      "b'NONE'\n",
      "b'NONE'\n",
      "b'NONE'\n",
      "b'NONE'\n",
      "b'NONE'\n",
      "b'NONE'\n",
      "b'NONE'\n",
      "b'NONE'\n"
     ]
    },
    {
     "name": "stderr",
     "output_type": "stream",
     "text": [
      "ERROR:autopilot:DISARMING MOTORS\n"
     ]
    },
    {
     "name": "stdout",
     "output_type": "stream",
     "text": [
      "b'NONE'\n",
      "b'NONE'\n",
      "b'NONE'\n",
      "b'NONE'\n",
      "b'NONE'\n",
      "b'NONE'\n",
      "b'NONE'\n",
      "b'NONE'\n",
      "b'NONE'\n",
      "b'NONE'\n",
      "b'NONE'\n",
      "b'NONE'\n",
      "b'NONE'\n",
      "b'NONE'\n",
      "b'NONE'\n",
      "b'NONE'\n",
      "b'NONE'\n",
      "b'NONE'\n",
      "b'NONE'\n",
      "b'NONE'\n",
      "b'NONE'\n",
      "b'NONE'\n",
      "b'NONE'\n",
      "b'NONE'\n",
      "b'NONE'\n",
      "b'NONE'\n",
      "b'NONE'\n",
      "b'NONE'\n",
      "b'NONE'\n",
      "b'NONE'\n",
      "b'NONE'\n",
      "b'NONE'\n",
      "b'NONE'\n",
      "b'NONE'\n",
      "b'NONE'\n",
      "b'NONE'\n",
      "b'NONE'\n",
      "b'NONE'\n",
      "b'NONE'\n",
      "b'NONE'\n",
      "b'NONE'\n",
      "b'NONE'\n",
      "b'NONE'\n",
      "b'NONE'\n",
      "b'NONE'\n",
      "b'NONE'\n",
      "b'NONE'\n",
      "b'NONE'\n",
      "b'NONE'\n",
      "b'NONE'\n",
      "b'NONE'\n",
      "b'NONE'\n",
      "b'NONE'\n",
      "b'NONE'\n",
      "b'NONE'\n",
      "b'NONE'\n",
      "b'NONE'\n",
      "b'NONE'\n"
     ]
    },
    {
     "name": "stderr",
     "output_type": "stream",
     "text": [
      "WARNING:dronekit:Link timeout, no heartbeat in last 5 seconds\n"
     ]
    }
   ],
   "source": [
    "drone_control.gesture_control()"
   ]
  },
  {
   "cell_type": "code",
   "execution_count": null,
   "metadata": {},
   "outputs": [],
   "source": []
  }
 ],
 "metadata": {
  "kernelspec": {
   "display_name": "dt",
   "language": "python",
   "name": "dt"
  },
  "language_info": {
   "codemirror_mode": {
    "name": "ipython",
    "version": 3
   },
   "file_extension": ".py",
   "mimetype": "text/x-python",
   "name": "python",
   "nbconvert_exporter": "python",
   "pygments_lexer": "ipython3",
   "version": "3.7.3"
  }
 },
 "nbformat": 4,
 "nbformat_minor": 2
}
